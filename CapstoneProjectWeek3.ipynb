{
    "nbformat_minor": 1, 
    "cells": [
        {
            "source": "### Coursera/IBM Applied Data Science Capstone Course\n#### Week 3 assignment: Toronto Neighborhoods ", 
            "cell_type": "markdown", 
            "metadata": {}
        }, 
        {
            "source": "First step: we import the necessary libraries:\n\n* *Request* to grap html site data\n\n* *BeautifulSoup* to scrape html data\n\n* *Numpy* to handle data in a vectorized manner\n\n* *Pandas* for data analysis and dataframes", 
            "cell_type": "markdown", 
            "metadata": {}
        }, 
        {
            "source": "import requests # library to grab html data\nfrom bs4 import BeautifulSoup # library to scrape html data\n\nimport numpy as np # library to handle data in a vectorized manner\n\nimport pandas as pd # library for data analsysis", 
            "cell_type": "code", 
            "metadata": {}, 
            "outputs": [], 
            "execution_count": 1
        }, 
        {
            "source": "In the next steps we:\n1. define the URL link\n2. Use request.get to download the data from the wikipedia site and assign the data to the variable *wikipedia_data*\n3. Use the data attribute text to extract the html data as text string, parse it with BeautifulSoup function and assign to the variable *soup*", 
            "cell_type": "markdown", 
            "metadata": {}
        }, 
        {
            "source": "#1\nwikipedia_link=\"https://en.wikipedia.org/wiki/List_of_postal_codes_of_Canada:_M\"\n#2\nwikipedia_data= requests.get(wikipedia_link)\n#3\nsoup = BeautifulSoup(wikipedia_data.text, 'html.parser')", 
            "cell_type": "code", 
            "metadata": {}, 
            "outputs": [], 
            "execution_count": 2
        }, 
        {
            "source": "Next we define the dataframe column names by\n4. Finding the relevant postalcode data in the body of an html table with the attribute *.tbody* and extracting the content within the *th* html element using the BeautifulSoup method *find_all*\n5. Extracting the text contained in each *th* element and adding it to an array of the column names\n6. Creating a new dataframe with those columns\n7. Adjusting some of the column names to fit the asignment description", 
            "cell_type": "markdown", 
            "metadata": {}
        }, 
        {
            "source": "#4\ncolumn_name_array = soup.tbody.find_all('th')\n#5\ncolumn_names = [column_name_array[0].string , column_name_array[1].string , column_name_array[2].string.strip('\\n')]\n#6\ntoronto_neighborhoods = pd.DataFrame(columns=column_names)\n#7\ntoronto_neighborhoods = toronto_neighborhoods.rename(columns={'Postcode':'PostalCode' , 'Neighbourhood': 'Neighborhood'})\ntoronto_neighborhoods", 
            "cell_type": "code", 
            "metadata": {}, 
            "outputs": [
                {
                    "output_type": "execute_result", 
                    "data": {
                        "text/plain": "Empty DataFrame\nColumns: [PostalCode, Borough, Neighborhood]\nIndex: []", 
                        "text/html": "<div>\n<style scoped>\n    .dataframe tbody tr th:only-of-type {\n        vertical-align: middle;\n    }\n\n    .dataframe tbody tr th {\n        vertical-align: top;\n    }\n\n    .dataframe thead th {\n        text-align: right;\n    }\n</style>\n<table border=\"1\" class=\"dataframe\">\n  <thead>\n    <tr style=\"text-align: right;\">\n      <th></th>\n      <th>PostalCode</th>\n      <th>Borough</th>\n      <th>Neighborhood</th>\n    </tr>\n  </thead>\n  <tbody>\n  </tbody>\n</table>\n</div>"
                    }, 
                    "execution_count": 3, 
                    "metadata": {}
                }
            ], 
            "execution_count": 3
        }, 
        {
            "source": "---\n\nNow we fill in the dataframe columns with the data from the wikipedia postalcodes table:\n8. Using the BeautifulSoup method *find_all* we collect the table rows into an array variable *table_data*\n9. Looping through the array (except the first element corresponding to the headers used for the column names), each element corresponding to a row in the table\n10. Extracting the row elements using the *find_all* on the html tag *td*, which results in an array with the three values of interest. \n11. Assign the values to each column in the dataframe", 
            "cell_type": "markdown", 
            "metadata": {}
        }, 
        {
            "source": "#8\ntable_data = soup.tbody.find_all('tr')\n\n#9\nfor row in table_data[1:]:\n    #10\n    row_entries = row.find_all('td')\n    #11\n    postcode = row_entries[0].get_text()\n    borough = row_entries[1].get_text()\n    neighborhood = row_entries[2].get_text().strip('\\n')\n    toronto_neighborhoods = toronto_neighborhoods.append({'PostalCode': postcode,\n                                          'Borough': borough,\n                                          'Neighborhood': neighborhood}, ignore_index=True)\n\n    \ntoronto_neighborhoods.head(10)", 
            "cell_type": "code", 
            "metadata": {}, 
            "outputs": [
                {
                    "output_type": "execute_result", 
                    "data": {
                        "text/plain": "  PostalCode           Borough      Neighborhood\n0        M1A      Not assigned      Not assigned\n1        M2A      Not assigned      Not assigned\n2        M3A        North York         Parkwoods\n3        M4A        North York  Victoria Village\n4        M5A  Downtown Toronto      Harbourfront\n5        M5A  Downtown Toronto       Regent Park\n6        M6A        North York  Lawrence Heights\n7        M6A        North York    Lawrence Manor\n8        M7A      Queen's Park      Not assigned\n9        M8A      Not assigned      Not assigned", 
                        "text/html": "<div>\n<style scoped>\n    .dataframe tbody tr th:only-of-type {\n        vertical-align: middle;\n    }\n\n    .dataframe tbody tr th {\n        vertical-align: top;\n    }\n\n    .dataframe thead th {\n        text-align: right;\n    }\n</style>\n<table border=\"1\" class=\"dataframe\">\n  <thead>\n    <tr style=\"text-align: right;\">\n      <th></th>\n      <th>PostalCode</th>\n      <th>Borough</th>\n      <th>Neighborhood</th>\n    </tr>\n  </thead>\n  <tbody>\n    <tr>\n      <th>0</th>\n      <td>M1A</td>\n      <td>Not assigned</td>\n      <td>Not assigned</td>\n    </tr>\n    <tr>\n      <th>1</th>\n      <td>M2A</td>\n      <td>Not assigned</td>\n      <td>Not assigned</td>\n    </tr>\n    <tr>\n      <th>2</th>\n      <td>M3A</td>\n      <td>North York</td>\n      <td>Parkwoods</td>\n    </tr>\n    <tr>\n      <th>3</th>\n      <td>M4A</td>\n      <td>North York</td>\n      <td>Victoria Village</td>\n    </tr>\n    <tr>\n      <th>4</th>\n      <td>M5A</td>\n      <td>Downtown Toronto</td>\n      <td>Harbourfront</td>\n    </tr>\n    <tr>\n      <th>5</th>\n      <td>M5A</td>\n      <td>Downtown Toronto</td>\n      <td>Regent Park</td>\n    </tr>\n    <tr>\n      <th>6</th>\n      <td>M6A</td>\n      <td>North York</td>\n      <td>Lawrence Heights</td>\n    </tr>\n    <tr>\n      <th>7</th>\n      <td>M6A</td>\n      <td>North York</td>\n      <td>Lawrence Manor</td>\n    </tr>\n    <tr>\n      <th>8</th>\n      <td>M7A</td>\n      <td>Queen's Park</td>\n      <td>Not assigned</td>\n    </tr>\n    <tr>\n      <th>9</th>\n      <td>M8A</td>\n      <td>Not assigned</td>\n      <td>Not assigned</td>\n    </tr>\n  </tbody>\n</table>\n</div>"
                    }, 
                    "execution_count": 4, 
                    "metadata": {}
                }
            ], 
            "execution_count": 4
        }, 
        {
            "source": "---\n\nNow we clean the dataframe by eliminating all rows without an assigned borough, that is, those containing *'Not assigned'* as value. \n12. First convert all the elements with the value *'Not assigned'* in the column *Borough* into a *NaN\n13. Then drop all the rows containing *NaN", 
            "cell_type": "markdown", 
            "metadata": {}
        }, 
        {
            "source": "toronto_neighborhoods.loc[toronto_neighborhoods['Borough'] == 'Not assigned','Borough'] = np.nan\ntoronto_neighborhoods = toronto_neighborhoods.dropna()\ntoronto_neighborhoods.head(10)", 
            "cell_type": "code", 
            "metadata": {}, 
            "outputs": [
                {
                    "output_type": "execute_result", 
                    "data": {
                        "text/plain": "   PostalCode           Borough      Neighborhood\n2         M3A        North York         Parkwoods\n3         M4A        North York  Victoria Village\n4         M5A  Downtown Toronto      Harbourfront\n5         M5A  Downtown Toronto       Regent Park\n6         M6A        North York  Lawrence Heights\n7         M6A        North York    Lawrence Manor\n8         M7A      Queen's Park      Not assigned\n10        M9A         Etobicoke  Islington Avenue\n11        M1B       Scarborough             Rouge\n12        M1B       Scarborough           Malvern", 
                        "text/html": "<div>\n<style scoped>\n    .dataframe tbody tr th:only-of-type {\n        vertical-align: middle;\n    }\n\n    .dataframe tbody tr th {\n        vertical-align: top;\n    }\n\n    .dataframe thead th {\n        text-align: right;\n    }\n</style>\n<table border=\"1\" class=\"dataframe\">\n  <thead>\n    <tr style=\"text-align: right;\">\n      <th></th>\n      <th>PostalCode</th>\n      <th>Borough</th>\n      <th>Neighborhood</th>\n    </tr>\n  </thead>\n  <tbody>\n    <tr>\n      <th>2</th>\n      <td>M3A</td>\n      <td>North York</td>\n      <td>Parkwoods</td>\n    </tr>\n    <tr>\n      <th>3</th>\n      <td>M4A</td>\n      <td>North York</td>\n      <td>Victoria Village</td>\n    </tr>\n    <tr>\n      <th>4</th>\n      <td>M5A</td>\n      <td>Downtown Toronto</td>\n      <td>Harbourfront</td>\n    </tr>\n    <tr>\n      <th>5</th>\n      <td>M5A</td>\n      <td>Downtown Toronto</td>\n      <td>Regent Park</td>\n    </tr>\n    <tr>\n      <th>6</th>\n      <td>M6A</td>\n      <td>North York</td>\n      <td>Lawrence Heights</td>\n    </tr>\n    <tr>\n      <th>7</th>\n      <td>M6A</td>\n      <td>North York</td>\n      <td>Lawrence Manor</td>\n    </tr>\n    <tr>\n      <th>8</th>\n      <td>M7A</td>\n      <td>Queen's Park</td>\n      <td>Not assigned</td>\n    </tr>\n    <tr>\n      <th>10</th>\n      <td>M9A</td>\n      <td>Etobicoke</td>\n      <td>Islington Avenue</td>\n    </tr>\n    <tr>\n      <th>11</th>\n      <td>M1B</td>\n      <td>Scarborough</td>\n      <td>Rouge</td>\n    </tr>\n    <tr>\n      <th>12</th>\n      <td>M1B</td>\n      <td>Scarborough</td>\n      <td>Malvern</td>\n    </tr>\n  </tbody>\n</table>\n</div>"
                    }, 
                    "execution_count": 5, 
                    "metadata": {}
                }
            ], 
            "execution_count": 5
        }, 
        {
            "source": "---\n\n13. Next find and replace all rows where the *Neighborhood* value is set to *'Not assigned'* and replace it by the value in the *Borough* column using the *numpy.where* function", 
            "cell_type": "markdown", 
            "metadata": {}
        }, 
        {
            "source": "#13\ntoronto_neighborhoods['Neighborhood'] = np.where(toronto_neighborhoods['Neighborhood'] == 'Not assigned', toronto_neighborhoods['Borough'], toronto_neighborhoods['Neighborhood'])\ntoronto_neighborhoods.head(10)", 
            "cell_type": "code", 
            "metadata": {}, 
            "outputs": [
                {
                    "output_type": "execute_result", 
                    "data": {
                        "text/plain": "   PostalCode           Borough      Neighborhood\n2         M3A        North York         Parkwoods\n3         M4A        North York  Victoria Village\n4         M5A  Downtown Toronto      Harbourfront\n5         M5A  Downtown Toronto       Regent Park\n6         M6A        North York  Lawrence Heights\n7         M6A        North York    Lawrence Manor\n8         M7A      Queen's Park      Queen's Park\n10        M9A         Etobicoke  Islington Avenue\n11        M1B       Scarborough             Rouge\n12        M1B       Scarborough           Malvern", 
                        "text/html": "<div>\n<style scoped>\n    .dataframe tbody tr th:only-of-type {\n        vertical-align: middle;\n    }\n\n    .dataframe tbody tr th {\n        vertical-align: top;\n    }\n\n    .dataframe thead th {\n        text-align: right;\n    }\n</style>\n<table border=\"1\" class=\"dataframe\">\n  <thead>\n    <tr style=\"text-align: right;\">\n      <th></th>\n      <th>PostalCode</th>\n      <th>Borough</th>\n      <th>Neighborhood</th>\n    </tr>\n  </thead>\n  <tbody>\n    <tr>\n      <th>2</th>\n      <td>M3A</td>\n      <td>North York</td>\n      <td>Parkwoods</td>\n    </tr>\n    <tr>\n      <th>3</th>\n      <td>M4A</td>\n      <td>North York</td>\n      <td>Victoria Village</td>\n    </tr>\n    <tr>\n      <th>4</th>\n      <td>M5A</td>\n      <td>Downtown Toronto</td>\n      <td>Harbourfront</td>\n    </tr>\n    <tr>\n      <th>5</th>\n      <td>M5A</td>\n      <td>Downtown Toronto</td>\n      <td>Regent Park</td>\n    </tr>\n    <tr>\n      <th>6</th>\n      <td>M6A</td>\n      <td>North York</td>\n      <td>Lawrence Heights</td>\n    </tr>\n    <tr>\n      <th>7</th>\n      <td>M6A</td>\n      <td>North York</td>\n      <td>Lawrence Manor</td>\n    </tr>\n    <tr>\n      <th>8</th>\n      <td>M7A</td>\n      <td>Queen's Park</td>\n      <td>Queen's Park</td>\n    </tr>\n    <tr>\n      <th>10</th>\n      <td>M9A</td>\n      <td>Etobicoke</td>\n      <td>Islington Avenue</td>\n    </tr>\n    <tr>\n      <th>11</th>\n      <td>M1B</td>\n      <td>Scarborough</td>\n      <td>Rouge</td>\n    </tr>\n    <tr>\n      <th>12</th>\n      <td>M1B</td>\n      <td>Scarborough</td>\n      <td>Malvern</td>\n    </tr>\n  </tbody>\n</table>\n</div>"
                    }, 
                    "execution_count": 6, 
                    "metadata": {}
                }
            ], 
            "execution_count": 6
        }, 
        {
            "source": "---\n\n14. Finally, we group all neighborhoods with the same postal code and Borough name into a single row, combining or aggregating the neighborhood names into a list separated by comas\n15. We need to reset the index ", 
            "cell_type": "markdown", 
            "metadata": {}
        }, 
        {
            "source": "#14.\ntoronto_neighborhoods = toronto_neighborhoods.groupby(['PostalCode', 'Borough']).agg(lambda x: ','.join(x.values))\n#15\ntoronto_neighborhoods.reset_index(inplace = True)\ntoronto_neighborhoods.head(10)", 
            "cell_type": "code", 
            "metadata": {}, 
            "outputs": [
                {
                    "output_type": "execute_result", 
                    "data": {
                        "text/plain": "  PostalCode      Borough                                   Neighborhood\n0        M1B  Scarborough                                  Rouge,Malvern\n1        M1C  Scarborough           Highland Creek,Rouge Hill,Port Union\n2        M1E  Scarborough                Guildwood,Morningside,West Hill\n3        M1G  Scarborough                                         Woburn\n4        M1H  Scarborough                                      Cedarbrae\n5        M1J  Scarborough                            Scarborough Village\n6        M1K  Scarborough      East Birchmount Park,Ionview,Kennedy Park\n7        M1L  Scarborough                  Clairlea,Golden Mile,Oakridge\n8        M1M  Scarborough  Cliffcrest,Cliffside,Scarborough Village West\n9        M1N  Scarborough                     Birch Cliff,Cliffside West", 
                        "text/html": "<div>\n<style scoped>\n    .dataframe tbody tr th:only-of-type {\n        vertical-align: middle;\n    }\n\n    .dataframe tbody tr th {\n        vertical-align: top;\n    }\n\n    .dataframe thead th {\n        text-align: right;\n    }\n</style>\n<table border=\"1\" class=\"dataframe\">\n  <thead>\n    <tr style=\"text-align: right;\">\n      <th></th>\n      <th>PostalCode</th>\n      <th>Borough</th>\n      <th>Neighborhood</th>\n    </tr>\n  </thead>\n  <tbody>\n    <tr>\n      <th>0</th>\n      <td>M1B</td>\n      <td>Scarborough</td>\n      <td>Rouge,Malvern</td>\n    </tr>\n    <tr>\n      <th>1</th>\n      <td>M1C</td>\n      <td>Scarborough</td>\n      <td>Highland Creek,Rouge Hill,Port Union</td>\n    </tr>\n    <tr>\n      <th>2</th>\n      <td>M1E</td>\n      <td>Scarborough</td>\n      <td>Guildwood,Morningside,West Hill</td>\n    </tr>\n    <tr>\n      <th>3</th>\n      <td>M1G</td>\n      <td>Scarborough</td>\n      <td>Woburn</td>\n    </tr>\n    <tr>\n      <th>4</th>\n      <td>M1H</td>\n      <td>Scarborough</td>\n      <td>Cedarbrae</td>\n    </tr>\n    <tr>\n      <th>5</th>\n      <td>M1J</td>\n      <td>Scarborough</td>\n      <td>Scarborough Village</td>\n    </tr>\n    <tr>\n      <th>6</th>\n      <td>M1K</td>\n      <td>Scarborough</td>\n      <td>East Birchmount Park,Ionview,Kennedy Park</td>\n    </tr>\n    <tr>\n      <th>7</th>\n      <td>M1L</td>\n      <td>Scarborough</td>\n      <td>Clairlea,Golden Mile,Oakridge</td>\n    </tr>\n    <tr>\n      <th>8</th>\n      <td>M1M</td>\n      <td>Scarborough</td>\n      <td>Cliffcrest,Cliffside,Scarborough Village West</td>\n    </tr>\n    <tr>\n      <th>9</th>\n      <td>M1N</td>\n      <td>Scarborough</td>\n      <td>Birch Cliff,Cliffside West</td>\n    </tr>\n  </tbody>\n</table>\n</div>"
                    }, 
                    "execution_count": 7, 
                    "metadata": {}
                }
            ], 
            "execution_count": 7
        }, 
        {
            "source": "---\n\n16. Display the dataframe size/shape", 
            "cell_type": "markdown", 
            "metadata": {}
        }, 
        {
            "source": "#16\ntoronto_neighborhoods.shape", 
            "cell_type": "code", 
            "metadata": {}, 
            "outputs": [
                {
                    "output_type": "execute_result", 
                    "data": {
                        "text/plain": "(103, 3)"
                    }, 
                    "execution_count": 8, 
                    "metadata": {}
                }
            ], 
            "execution_count": 8
        }, 
        {
            "source": "", 
            "cell_type": "code", 
            "metadata": {}, 
            "outputs": [], 
            "execution_count": null
        }
    ], 
    "metadata": {
        "kernelspec": {
            "display_name": "Python 3.5", 
            "name": "python3", 
            "language": "python"
        }, 
        "language_info": {
            "mimetype": "text/x-python", 
            "nbconvert_exporter": "python", 
            "version": "3.5.5", 
            "name": "python", 
            "pygments_lexer": "ipython3", 
            "file_extension": ".py", 
            "codemirror_mode": {
                "version": 3, 
                "name": "ipython"
            }
        }
    }, 
    "nbformat": 4
}